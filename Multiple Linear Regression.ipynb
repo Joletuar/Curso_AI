{
 "cells": [
  {
   "cell_type": "markdown",
   "metadata": {},
   "source": [
    "- Root mean squared error (RMSE): La raiz cuadrada de la media del error al cuadrado. Métrica para comparar modelos de regresión\n",
    "- Residual standard error (RSE): Los mismo que RMSE, solo que ajustado a los grados de libertad.\n",
    "- R-squared (coefficient of determination, r2): La proporción de la varianza explicada por el modelo, rango entre 0 y 1\n",
    "- t-statistic: El coeficiente para un predictor, dividido por el error estándar del coeficiente. Nos da una métrica para comparar la importancia de las variables en el modelo.\n",
    "- Weighted regression: La regresión con los registros teniendo diferentes pesos."
   ]
  }
 ],
 "metadata": {
  "language_info": {
   "name": "python"
  },
  "orig_nbformat": 4
 },
 "nbformat": 4,
 "nbformat_minor": 2
}
